{
 "cells": [
  {
   "cell_type": "code",
   "execution_count": null,
   "id": "b62aaed2",
   "metadata": {},
   "outputs": [
    {
     "name": "stdout",
     "output_type": "stream",
     "text": [
      "Requirement already satisfied: numpy in c:\\users\\isaac\\anaconda3\\lib\\site-packages (1.24.4)\n",
      "Requirement already satisfied: pandas in c:\\users\\isaac\\anaconda3\\lib\\site-packages (1.5.3)\n",
      "Requirement already satisfied: tensorflow in c:\\users\\isaac\\anaconda3\\lib\\site-packages (2.16.1)\n",
      "Requirement already satisfied: tensorflow-hub in c:\\users\\isaac\\anaconda3\\lib\\site-packages (0.16.1)\n"
     ]
    },
    {
     "name": "stderr",
     "output_type": "stream",
     "text": [
      "ERROR: Could not find a version that satisfies the requirement tensorflow-text (from versions: none)\n",
      "ERROR: No matching distribution found for tensorflow-text\n"
     ]
    }
   ],
   "source": [
    "%pip install numpy pandas tensorflow tensorflow-hub nltk scikit-learn\n",
    "%pip install tensorflow-text"
   ]
  },
  {
   "cell_type": "code",
   "execution_count": null,
   "id": "28f85462",
   "metadata": {},
   "outputs": [],
   "source": [
    "import numpy as np\n",
    "import pandas as pd\n",
    "import tensorflow as tf\n",
    "import tensorflow_hub as hub\n",
    "import tensorflow_text  # Needed for ELMo text processing\n",
    "import nltk\n",
    "import re\n",
    "import string\n",
    "\n",
    "from tensorflow.keras.layers import Dense, Dropout, Input, Lambda\n",
    "from tensorflow.keras.models import Model\n",
    "from sklearn.model_selection import train_test_split\n",
    "from sklearn.metrics import accuracy_score, classification_report\n",
    "from nltk.corpus import stopwords\n",
    "\n",
    "# Download stopwords\n",
    "nltk.download(\"stopwords\")\n",
    "stop_words = set(stopwords.words(\"english\"))\n"
   ]
  },
  {
   "cell_type": "code",
   "execution_count": null,
   "id": "cbcdd30f",
   "metadata": {},
   "outputs": [],
   "source": [
    "# Load datasets\n",
    "true_df = pd.read_csv(\"C://Users//isaac//Desktop//FakeRealNews//True.csv\")\n",
    "fake_df = pd.read_csv(\"C://Users//isaac//Desktop//FakeRealNews//Fake.csv\")\n",
    "\n",
    "# Add a label column: 0 for true news, 1 for fake news\n",
    "true_df[\"label\"] = 1\n",
    "fake_df[\"label\"] = 0\n",
    "\n",
    "# Combine the datasets\n",
    "df = pd.concat([true_df, fake_df], ignore_index=True)\n",
    "\n",
    "# Shuffle dataset\n",
    "df = df.sample(frac=1, random_state=42).reset_index(drop=True)\n",
    "\n",
    "# Display dataset info\n",
    "df.info()\n"
   ]
  },
  {
   "cell_type": "code",
   "execution_count": null,
   "id": "2d5a4b9a",
   "metadata": {},
   "outputs": [],
   "source": [
    "def clean_text(text):\n",
    "    text = text.lower()  # Convert to lowercase\n",
    "    text = re.sub(r'https?://\\S+|www\\.\\S+', '', text)  # Remove URLs\n",
    "    text = re.sub(r'\\[.*?\\]', '', text)  # Remove brackets\n",
    "    text = re.sub(r'\\W+', ' ', text)  # Remove special characters\n",
    "    text = re.sub(r'\\d+', '', text)  # Remove digits\n",
    "    text = text.translate(str.maketrans('', '', string.punctuation))  # Remove punctuation\n",
    "    text = \" \".join([word for word in text.split() if word not in stop_words])  # Remove stopwords\n",
    "    return text\n",
    "\n",
    "# Apply text cleaning\n",
    "df[\"text\"] = (df[\"title\"] + \" \" + df[\"text\"]).astype(str).apply(clean_text)\n"
   ]
  },
  {
   "cell_type": "code",
   "execution_count": null,
   "id": "4bdbedca",
   "metadata": {},
   "outputs": [],
   "source": [
    "X_train, X_test, y_train, y_test = train_test_split(df[\"text\"], df[\"label\"], test_size=0.2, random_state=42, stratify=df[\"label\"])\n"
   ]
  },
  {
   "cell_type": "code",
   "execution_count": null,
   "id": "f516897f",
   "metadata": {},
   "outputs": [],
   "source": [
    "elmo = hub.KerasLayer(\"https://tfhub.dev/google/elmo/3\", trainable=False)\n"
   ]
  },
  {
   "cell_type": "code",
   "execution_count": null,
   "id": "8f266644",
   "metadata": {},
   "outputs": [],
   "source": [
    "# Define input layer\n",
    "input_text = Input(shape=(), dtype=tf.string)\n",
    "\n",
    "# Get ELMo embeddings (reshape input for compatibility)\n",
    "elmo_embedding = Lambda(lambda x: elmo(tf.reshape(x, [-1]))[\"default\"])(input_text)\n",
    "\n",
    "# Fully connected layers\n",
    "dense_layer = Dense(128, activation='relu')(elmo_embedding)\n",
    "dropout_layer = Dropout(0.5)(dense_layer)\n",
    "output_layer = Dense(1, activation='sigmoid')(dropout_layer)\n",
    "\n",
    "# Compile Model\n",
    "elmo_model = Model(inputs=input_text, outputs=output_layer)\n",
    "elmo_model.compile(loss='binary_crossentropy', optimizer='adam', metrics=['accuracy'])\n",
    "\n",
    "# Display model summary\n",
    "elmo_model.summary()\n"
   ]
  },
  {
   "cell_type": "code",
   "execution_count": null,
   "id": "38a79a86",
   "metadata": {},
   "outputs": [],
   "source": [
    "history = elmo_model.fit(X_train, y_train, epochs=5, batch_size=32, validation_data=(X_test, y_test))\n"
   ]
  },
  {
   "cell_type": "code",
   "execution_count": null,
   "id": "db355e77",
   "metadata": {},
   "outputs": [],
   "source": [
    "y_pred = (elmo_model.predict(X_test) > 0.5).astype(\"int32\")\n",
    "\n",
    "# Print evaluation results\n",
    "print(\"Accuracy:\", accuracy_score(y_test, y_pred))\n",
    "print(\"Classification Report:\\n\", classification_report(y_test, y_pred))\n"
   ]
  },
  {
   "cell_type": "code",
   "execution_count": null,
   "id": "bf71aa56",
   "metadata": {},
   "outputs": [],
   "source": [
    "elmo_model.save(\"elmo_fake_news_model.h5\")\n",
    "# from tensorflow.keras.models import load_model\n",
    "# elmo_model = load_model(\"elmo_fake_news_model.h5\", custom_objects={\"KerasLayer\": hub.KerasLayer})\n"
   ]
  }
 ],
 "metadata": {
  "kernelspec": {
   "display_name": "Python 3 (ipykernel)",
   "language": "python",
   "name": "python3"
  },
  "language_info": {
   "codemirror_mode": {
    "name": "ipython",
    "version": 3
   },
   "file_extension": ".py",
   "mimetype": "text/x-python",
   "name": "python",
   "nbconvert_exporter": "python",
   "pygments_lexer": "ipython3",
   "version": "3.11.7"
  }
 },
 "nbformat": 4,
 "nbformat_minor": 5
}
